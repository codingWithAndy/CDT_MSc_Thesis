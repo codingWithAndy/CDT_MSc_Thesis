{
 "cells": [
  {
   "cell_type": "code",
   "execution_count": 18,
   "source": [
    "#reading the data from the dataset and converting to lowercase, converting list of reviews\n",
    "import nltk\n"
   ],
   "outputs": [],
   "metadata": {}
  },
  {
   "cell_type": "code",
   "execution_count": 19,
   "source": [
    "file = 'dataset2.csv'\n",
    "#with open(file, 'rb') as fopen:\n",
    "        #corpus = fopen.read()\n",
    "        #print(corpus.decode('latin-1'))\n",
    "corpus = open('dataset2.csv').read()\n",
    "corpus = corpus.lower()\n",
    "docs = corpus.split('\\n')\n",
    "\n",
    "\n",
    "#creatinig a list of the only POS tags that we are interested in\n",
    "words = nltk.tokenize.word_tokenize(docs[0])\n",
    "allowed_tags = ['VBP', 'VB', 'VBG', 'JJ', 'NN', 'RB']"
   ],
   "outputs": [],
   "metadata": {}
  },
  {
   "cell_type": "code",
   "execution_count": 21,
   "source": [
    "from sklearn.feature_extraction.stop_words import ENGLISH_STOP_WORDS\n",
    "from string import punctuation as punc\n",
    "\n",
    "pdocs = []\n",
    "for d in docs:\n",
    "    words = nltk.tokenize.word_tokenize(d)\n",
    "    words_tags = nltk.pos_tag(words)\n",
    "    for w, t in words_tags:\n",
    "        if w in punc:\n",
    "            words.remove(w)\n",
    "        elif w in ENGLISH_STOP_WORDS:\n",
    "            words.remove(w)\n",
    "        elif t not in allowed_tags:\n",
    "            words.remove(w)\n",
    "    pd = ' '.join(words)\n",
    "    pdocs.append(pd)\n",
    "\n"
   ],
   "outputs": [
    {
     "output_type": "error",
     "ename": "ModuleNotFoundError",
     "evalue": "No module named 'sklearn.feature_extraction.stop_words'",
     "traceback": [
      "\u001b[0;31m---------------------------------------------------------------------------\u001b[0m",
      "\u001b[0;31mModuleNotFoundError\u001b[0m                       Traceback (most recent call last)",
      "\u001b[0;32m<ipython-input-21-d172dc8beb81>\u001b[0m in \u001b[0;36m<module>\u001b[0;34m\u001b[0m\n\u001b[0;32m----> 1\u001b[0;31m \u001b[0;32mfrom\u001b[0m \u001b[0msklearn\u001b[0m\u001b[0;34m.\u001b[0m\u001b[0mfeature_extraction\u001b[0m\u001b[0;34m.\u001b[0m\u001b[0mstop_words\u001b[0m \u001b[0;32mimport\u001b[0m \u001b[0mENGLISH_STOP_WORDS\u001b[0m\u001b[0;34m\u001b[0m\u001b[0;34m\u001b[0m\u001b[0m\n\u001b[0m\u001b[1;32m      2\u001b[0m \u001b[0;32mfrom\u001b[0m \u001b[0mstring\u001b[0m \u001b[0;32mimport\u001b[0m \u001b[0mpunctuation\u001b[0m \u001b[0;32mas\u001b[0m \u001b[0mpunc\u001b[0m\u001b[0;34m\u001b[0m\u001b[0;34m\u001b[0m\u001b[0m\n\u001b[1;32m      3\u001b[0m \u001b[0;34m\u001b[0m\u001b[0m\n\u001b[1;32m      4\u001b[0m \u001b[0mpdocs\u001b[0m \u001b[0;34m=\u001b[0m \u001b[0;34m[\u001b[0m\u001b[0;34m]\u001b[0m\u001b[0;34m\u001b[0m\u001b[0;34m\u001b[0m\u001b[0m\n\u001b[1;32m      5\u001b[0m \u001b[0;32mfor\u001b[0m \u001b[0md\u001b[0m \u001b[0;32min\u001b[0m \u001b[0mdocs\u001b[0m\u001b[0;34m:\u001b[0m\u001b[0;34m\u001b[0m\u001b[0;34m\u001b[0m\u001b[0m\n",
      "\u001b[0;31mModuleNotFoundError\u001b[0m: No module named 'sklearn.feature_extraction.stop_words'"
     ]
    }
   ],
   "metadata": {}
  },
  {
   "cell_type": "code",
   "execution_count": null,
   "source": [
    "#Structuring our input documents with CountVectorizer\n",
    "from sklearn.feature_extraction.text import CountVectorizer\n",
    "vec = CountVectorizer()\n",
    "matrix_X = vec.fit_transform(pdocs)\n",
    "\n"
   ],
   "outputs": [],
   "metadata": {}
  },
  {
   "cell_type": "code",
   "execution_count": null,
   "source": [
    "#LDA (Topic modeling)\n",
    "features = vec.get_feature_names()\n",
    "from sklearn.decomposition import LatentDirichletAllocation\n",
    "lda = LatentDirichletAllocation(n_components = 5)\n",
    "lda.fit(matrix_X)"
   ],
   "outputs": [],
   "metadata": {}
  },
  {
   "cell_type": "code",
   "execution_count": null,
   "source": [
    "#Sentiment Analysis\n",
    "from nltk.corpus import wordnet as wn\n",
    "from nltk.corpus import sentiwordnet as swn\n",
    "\n",
    "for tid, topics in enumerate(lda.components_):\n",
    "    print('topic ID: ', tid)\n",
    "    top_words = [features[i] for i in topics.argsort()[:-10:-1]]\n",
    "    print(top_words)\n",
    "    score = 0\n",
    "    for w in top_words:\n",
    "        senti_synset = swn.senti_synset(wn.synsets(w)[0].name())\n",
    "        score += senti_synset.pos_score() - senti_synset.neg_score()\n",
    "    print('Sentiment Score: ', score)"
   ],
   "outputs": [],
   "metadata": {}
  },
  {
   "cell_type": "markdown",
   "source": [
    "### Classification "
   ],
   "metadata": {}
  },
  {
   "cell_type": "markdown",
   "source": [],
   "metadata": {}
  },
  {
   "cell_type": "code",
   "execution_count": 22,
   "source": [
    "#tokenizing and covertint to lower-case\n",
    "from nltk.corpus import wordnet\n",
    "import sklearn\n",
    "from sklearn.feature_extraction.text import TfidfVectorizer\n",
    "from nltk.stem import PorterStemmer\n",
    "from sklearn.feature_extraction.stop_words import ENGLISH_STOP_WORDS\n",
    "from string import punctuation as punc\n",
    "import nltk.tokenize\n",
    "raw = open(\"E:\\\\dataset.txt\").read()\n",
    "raw = raw.lower()\n",
    "docs = nltk.tokenize.sent_tokenize(raw)\n",
    "docs = docs[0].split('\\n')\n",
    "\n",
    "#pre-processing punctuations\n",
    "for d in docs:\n",
    "    for ch in d:\n",
    "        if ch in punc:\n",
    "            d = d.replace(ch, '')\n",
    "\n",
    "#removing stopwords, stemming words\n",
    "ps = PorterStemmer()\n",
    "for d in docs:\n",
    "    for token in nltk.tokenize.word_tokenize(d):\n",
    "        if token in ENGLISH_STOP_WORDS:\n",
    "            d = d.replace(token, '')\n",
    "        d = d.replace(token, ps.stem(token))\n",
    "\n",
    "# asking for the test document from the user through direct input\n",
    "for i in range(len(docs)):\n",
    "    print('D' + str(i) + \": \" + docs[i])\n",
    "test = input(\"Enter your text: \")\n",
    "docs.append(test + \":\")\n",
    "\n",
    "#separating input documents from labels, stripping off the unwanted spaces\n",
    "X, y = [], []\n",
    "for d in docs:\n",
    "    X.append(d[:d.index(\":\")].lstrip().rstrip())\n",
    "    y.append(d[d.index(\":\")+1:].lstrip().rstrip())\n",
    "\n",
    "#Vectorizing with Tfidf vectorizer\n",
    "vectorizer = TfidfVectorizer()\n",
    "vec = vectorizer.fit_transform(X)\n",
    "print(vec.toarray)\n",
    "\n",
    "#training KNN Classifier\n",
    "clf = sklearn.neighbors.KNeighborsClassifier(1)\n",
    "clf.fit(vec[:6], y[:6])\n",
    "print('Label: ', clf.predict(vec[6]))\n",
    "\n",
    "#sentiment analysis\n",
    "test_tokens = test.split(' ')\n",
    "good = wordnet.synsets('good')\n",
    "bad = wordnet.synsets('evil')\n",
    "score_pos = score_neg = 0\n",
    "\n",
    "for token in test_tokens:\n",
    "    t = wordnet.synsets(token)\n",
    "    if len(t) > 0:\n",
    "        sim_good = wordnet.wup_similarity(good[0], t[0])\n",
    "        sim_bad = wordnet.wup_similarity(bad[0], t[0])\n",
    "        if(sim_good is not None):\n",
    "            score_pos = score_pos + sim_good\n",
    "        if(sim_bad is not None):\n",
    "            score_neg = score_neg + sim_bad\n",
    "\n",
    "if(score_neg - score_pos > 0.1):\n",
    "    print('Subjective statement, Negative opinion of strength: %.2f' % score_neg)\n",
    "elif(score_pos - score_neg > 0.1):\n",
    "    print('Subjective statement, Positive opinion of strength: %.2f' % score_pos)\n",
    "else:\n",
    "    print('Objective statement, No opinion showed')\n",
    "\n",
    "#nearest documents\n",
    "nbrs = sklearn.neighbors.NearestNeighbors(n_neighbors=2)\n",
    "nbrs.fit(vec[:6])\n",
    "closest_docs = nbrs.kneighbors(vec[6])\n",
    "print('Recommended readings are documents with IDs ', closest_docs[1])\n",
    "print('having distances ', closest_docs[0])\n"
   ],
   "outputs": [
    {
     "output_type": "error",
     "ename": "ModuleNotFoundError",
     "evalue": "No module named 'sklearn.feature_extraction.stop_words'",
     "traceback": [
      "\u001b[0;31m---------------------------------------------------------------------------\u001b[0m",
      "\u001b[0;31mModuleNotFoundError\u001b[0m                       Traceback (most recent call last)",
      "\u001b[0;32m<ipython-input-22-f002ac2d483f>\u001b[0m in \u001b[0;36m<module>\u001b[0;34m\u001b[0m\n\u001b[1;32m      4\u001b[0m \u001b[0;32mfrom\u001b[0m \u001b[0msklearn\u001b[0m\u001b[0;34m.\u001b[0m\u001b[0mfeature_extraction\u001b[0m\u001b[0;34m.\u001b[0m\u001b[0mtext\u001b[0m \u001b[0;32mimport\u001b[0m \u001b[0mTfidfVectorizer\u001b[0m\u001b[0;34m\u001b[0m\u001b[0;34m\u001b[0m\u001b[0m\n\u001b[1;32m      5\u001b[0m \u001b[0;32mfrom\u001b[0m \u001b[0mnltk\u001b[0m\u001b[0;34m.\u001b[0m\u001b[0mstem\u001b[0m \u001b[0;32mimport\u001b[0m \u001b[0mPorterStemmer\u001b[0m\u001b[0;34m\u001b[0m\u001b[0;34m\u001b[0m\u001b[0m\n\u001b[0;32m----> 6\u001b[0;31m \u001b[0;32mfrom\u001b[0m \u001b[0msklearn\u001b[0m\u001b[0;34m.\u001b[0m\u001b[0mfeature_extraction\u001b[0m\u001b[0;34m.\u001b[0m\u001b[0mstop_words\u001b[0m \u001b[0;32mimport\u001b[0m \u001b[0mENGLISH_STOP_WORDS\u001b[0m\u001b[0;34m\u001b[0m\u001b[0;34m\u001b[0m\u001b[0m\n\u001b[0m\u001b[1;32m      7\u001b[0m \u001b[0;32mfrom\u001b[0m \u001b[0mstring\u001b[0m \u001b[0;32mimport\u001b[0m \u001b[0mpunctuation\u001b[0m \u001b[0;32mas\u001b[0m \u001b[0mpunc\u001b[0m\u001b[0;34m\u001b[0m\u001b[0;34m\u001b[0m\u001b[0m\n\u001b[1;32m      8\u001b[0m \u001b[0;32mimport\u001b[0m \u001b[0mnltk\u001b[0m\u001b[0;34m.\u001b[0m\u001b[0mtokenize\u001b[0m\u001b[0;34m\u001b[0m\u001b[0;34m\u001b[0m\u001b[0m\n",
      "\u001b[0;31mModuleNotFoundError\u001b[0m: No module named 'sklearn.feature_extraction.stop_words'"
     ]
    }
   ],
   "metadata": {}
  },
  {
   "cell_type": "code",
   "execution_count": null,
   "source": [],
   "outputs": [],
   "metadata": {}
  }
 ],
 "metadata": {
  "orig_nbformat": 4,
  "language_info": {
   "name": "python",
   "version": "3.7.3",
   "mimetype": "text/x-python",
   "codemirror_mode": {
    "name": "ipython",
    "version": 3
   },
   "pygments_lexer": "ipython3",
   "nbconvert_exporter": "python",
   "file_extension": ".py"
  },
  "kernelspec": {
   "name": "python3",
   "display_name": "Python 3.7.3 64-bit ('base': conda)"
  },
  "interpreter": {
   "hash": "23f99457206c0f7f0b0a655d6b368e76e80a0e0abca74d96b360c9a12daeddad"
  }
 },
 "nbformat": 4,
 "nbformat_minor": 2
}