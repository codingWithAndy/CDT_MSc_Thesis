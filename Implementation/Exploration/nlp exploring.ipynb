{
 "cells": [
  {
   "cell_type": "code",
   "execution_count": 1,
   "source": [
    "#reading the data from the dataset and converting to lowercase, converting list of reviews\n",
    "import nltk\n"
   ],
   "outputs": [],
   "metadata": {}
  },
  {
   "cell_type": "code",
   "execution_count": 2,
   "source": [
    "file = 'dataset2.csv'\n",
    "#with open(file, 'rb') as fopen:\n",
    "        #corpus = fopen.read()\n",
    "        #print(corpus.decode('latin-1'))\n",
    "corpus = open('dataset2.csv').read()\n",
    "corpus = corpus.lower()\n",
    "docs = corpus.split('\\n')\n",
    "\n",
    "\n",
    "#creatinig a list of the only POS tags that we are interested in\n",
    "words = nltk.tokenize.word_tokenize(docs[0])\n",
    "allowed_tags = ['VBP', 'VB', 'VBG', 'JJ', 'NN', 'RB']"
   ],
   "outputs": [],
   "metadata": {}
  },
  {
   "cell_type": "code",
   "execution_count": 25,
   "source": [
    "from sklearn.feature_extraction.text import ENGLISH_STOP_WORDS\n",
    "from string import punctuation as punc\n",
    "\n",
    "pdocs = []\n",
    "for d in docs:\n",
    "    words = nltk.tokenize.word_tokenize(d)\n",
    "    words_tags = nltk.pos_tag(words)\n",
    "    for w, t in words_tags:\n",
    "        if w in punc:\n",
    "            words.remove(w)\n",
    "        elif w in ENGLISH_STOP_WORDS:\n",
    "            words.remove(w)\n",
    "        elif t not in allowed_tags:\n",
    "            words.remove(w)\n",
    "    pd = ' '.join(words)\n",
    "    pdocs.append(pd)"
   ],
   "outputs": [],
   "metadata": {}
  },
  {
   "cell_type": "code",
   "execution_count": 4,
   "source": [
    "#Structuring our input documents with CountVectorizer\n",
    "from sklearn.feature_extraction.text import CountVectorizer\n",
    "vec = CountVectorizer()\n",
    "matrix_X = vec.fit_transform(pdocs)\n",
    "\n"
   ],
   "outputs": [],
   "metadata": {}
  },
  {
   "cell_type": "code",
   "execution_count": 5,
   "source": [
    "#LDA (Topic modeling)\n",
    "features = vec.get_feature_names()\n",
    "from sklearn.decomposition import LatentDirichletAllocation\n",
    "lda = LatentDirichletAllocation(n_components = 5)\n",
    "lda.fit(matrix_X)"
   ],
   "outputs": [
    {
     "output_type": "execute_result",
     "data": {
      "text/plain": [
       "LatentDirichletAllocation(n_components=5)"
      ]
     },
     "metadata": {},
     "execution_count": 5
    }
   ],
   "metadata": {}
  },
  {
   "cell_type": "code",
   "execution_count": 6,
   "source": [
    "#Sentiment Analysis\n",
    "from nltk.corpus import wordnet as wn\n",
    "from nltk.corpus import sentiwordnet as swn\n",
    "\n",
    "for tid, topics in enumerate(lda.components_):\n",
    "    print('topic ID: ', tid)\n",
    "    top_words = [features[i] for i in topics.argsort()[:-10:-1]]\n",
    "    print(top_words)\n",
    "    score = 0\n",
    "    for w in top_words:\n",
    "        senti_synset = swn.senti_synset(wn.synsets(w)[0].name())\n",
    "        score += senti_synset.pos_score() - senti_synset.neg_score()\n",
    "    print('Sentiment Score: ', score)"
   ],
   "outputs": [
    {
     "output_type": "stream",
     "name": "stdout",
     "text": [
      "topic ID:  0\n",
      "['place', 'thank', 'wonderful', 'beautiful', 'come', 'experience', 'nice', 'amazing', 'staff']\n",
      "Sentiment Score:  1.25\n",
      "topic ID:  1\n",
      "['hotel', 'just', 'fantastic', 'restaurant', 'friendly', 'place', 'stay', 'experience', 'excellent']\n",
      "Sentiment Score:  2.125\n",
      "topic ID:  2\n",
      "['hotel', 'staff', 'stay', 'room', 'wonderful', 'place', 'really', 'food', 'feel']\n",
      "Sentiment Score:  1.5\n",
      "topic ID:  3\n",
      "['thank', 'love', 'stay', 'great', 'hotel', 'food', 'experience', 'perfect', 'time']\n",
      "Sentiment Score:  0.625\n",
      "topic ID:  4\n",
      "['room', 'time', 'amazing', 'soon', 'come', 'place', 'menu', 'hotel', 'beach']\n",
      "Sentiment Score:  -0.375\n"
     ]
    }
   ],
   "metadata": {}
  },
  {
   "cell_type": "markdown",
   "source": [
    "### Classification "
   ],
   "metadata": {}
  },
  {
   "cell_type": "markdown",
   "source": [],
   "metadata": {}
  },
  {
   "cell_type": "code",
   "execution_count": 13,
   "source": [
    "#tokenizing and covertint to lower-case\n",
    "from nltk.corpus import wordnet\n",
    "import sklearn\n",
    "from sklearn.feature_extraction.text import TfidfVectorizer\n",
    "from sklearn.neighbors import KNeighborsClassifier, NearestNeighbors\n",
    "from nltk.stem import PorterStemmer\n",
    "from sklearn.feature_extraction.stop_words import ENGLISH_STOP_WORDS\n",
    "from string import punctuation as punc\n",
    "import nltk.tokenize"
   ],
   "outputs": [],
   "metadata": {}
  },
  {
   "cell_type": "code",
   "execution_count": 14,
   "source": [
    "raw = open(\"dataset.txt\").read()\n",
    "raw = raw.lower()\n",
    "docs = nltk.tokenize.sent_tokenize(raw)\n",
    "docs = docs[0].split('\\n')\n"
   ],
   "outputs": [],
   "metadata": {}
  },
  {
   "cell_type": "code",
   "execution_count": 15,
   "source": [
    "#pre-processing punctuations\n",
    "for d in docs:\n",
    "    for ch in d:\n",
    "        if ch in punc:\n",
    "            d = d.replace(ch, '')"
   ],
   "outputs": [],
   "metadata": {}
  },
  {
   "cell_type": "code",
   "execution_count": 16,
   "source": [
    "#removing stopwords, stemming words\n",
    "ps = PorterStemmer()\n",
    "for d in docs:\n",
    "    for token in nltk.tokenize.word_tokenize(d):\n",
    "        if token in ENGLISH_STOP_WORDS:\n",
    "            d = d.replace(token, '')\n",
    "        d = d.replace(token, ps.stem(token))"
   ],
   "outputs": [],
   "metadata": {}
  },
  {
   "cell_type": "code",
   "execution_count": 17,
   "source": [
    "# asking for the test document from the user through direct input\n",
    "for i in range(len(docs)):\n",
    "    print('D' + str(i) + \": \" + docs[i])\n",
    "test = input(\"Enter your text: \")\n",
    "docs.append(test + \":\")"
   ],
   "outputs": [
    {
     "output_type": "stream",
     "name": "stdout",
     "text": [
      "D0: this recipe is very very very special for cooking snacks : cooking\n",
      "D1: i like to cook but it usually takes longer : cooking\n",
      "D2: my priorities in cooking include pastas and soup : cooking\n",
      "D3: one need to stay fit while playing professional sports : sports\n",
      "D4: it is very important for sportsmen to take care of their diet : sports\n",
      "D5: professional sports demand a lot of hardwork : sports\n"
     ]
    }
   ],
   "metadata": {}
  },
  {
   "cell_type": "code",
   "execution_count": 18,
   "source": [
    "#separating input documents from labels, stripping off the unwanted spaces\n",
    "X, y = [], []\n",
    "for d in docs:\n",
    "    X.append(d[:d.index(\":\")].lstrip().rstrip())\n",
    "    y.append(d[d.index(\":\")+1:].lstrip().rstrip())"
   ],
   "outputs": [],
   "metadata": {}
  },
  {
   "cell_type": "code",
   "execution_count": 19,
   "source": [
    "#Vectorizing with Tfidf vectorizer\n",
    "vectorizer = TfidfVectorizer()\n",
    "vec = vectorizer.fit_transform(X)\n",
    "print(vec.toarray)"
   ],
   "outputs": [
    {
     "output_type": "stream",
     "name": "stdout",
     "text": [
      "<bound method _cs_matrix.toarray of <7x43 sparse matrix of type '<class 'numpy.float64'>'\n",
      "\twith 57 stored elements in Compressed Sparse Row format>>\n"
     ]
    }
   ],
   "metadata": {}
  },
  {
   "cell_type": "code",
   "execution_count": 20,
   "source": [
    "#training KNN Classifier\n",
    "clf = KNeighborsClassifier(1)\n",
    "clf.fit(vec[:6], y[:6])\n",
    "print('Label: ', clf.predict(vec[6]))"
   ],
   "outputs": [
    {
     "output_type": "stream",
     "name": "stdout",
     "text": [
      "Label:  ['sports']\n"
     ]
    }
   ],
   "metadata": {}
  },
  {
   "cell_type": "code",
   "execution_count": 21,
   "source": [
    "#sentiment analysis\n",
    "test_tokens = test.split(' ')\n",
    "good = wordnet.synsets('good')\n",
    "bad = wordnet.synsets('evil')\n",
    "score_pos = score_neg = 0"
   ],
   "outputs": [],
   "metadata": {}
  },
  {
   "cell_type": "code",
   "execution_count": 22,
   "source": [
    "for token in test_tokens:\n",
    "    t = wordnet.synsets(token)\n",
    "    if len(t) > 0:\n",
    "        sim_good = wordnet.wup_similarity(good[0], t[0])\n",
    "        sim_bad = wordnet.wup_similarity(bad[0], t[0])\n",
    "        if(sim_good is not None):\n",
    "            score_pos = score_pos + sim_good\n",
    "        if(sim_bad is not None):\n",
    "            score_neg = score_neg + sim_bad"
   ],
   "outputs": [],
   "metadata": {}
  },
  {
   "cell_type": "code",
   "execution_count": 23,
   "source": [
    "if(score_neg - score_pos > 0.1):\n",
    "    print('Subjective statement, Negative opinion of strength: %.2f' % score_neg)\n",
    "elif(score_pos - score_neg > 0.1):\n",
    "    print('Subjective statement, Positive opinion of strength: %.2f' % score_pos)\n",
    "else:\n",
    "    print('Objective statement, No opinion showed')"
   ],
   "outputs": [
    {
     "output_type": "stream",
     "name": "stdout",
     "text": [
      "Subjective statement, Positive opinion of strength: 1.39\n"
     ]
    }
   ],
   "metadata": {}
  },
  {
   "cell_type": "code",
   "execution_count": 24,
   "source": [
    "#nearest documents\n",
    "nbrs = NearestNeighbors(n_neighbors=2)\n",
    "nbrs.fit(vec[:6])\n",
    "closest_docs = nbrs.kneighbors(vec[6])\n",
    "print('Recommended readings are documents with IDs ', closest_docs[1])\n",
    "print('having distances ', closest_docs[0])"
   ],
   "outputs": [
    {
     "output_type": "stream",
     "name": "stdout",
     "text": [
      "Recommended readings are documents with IDs  [[3 1]]\n",
      "having distances  [[1.15020058 1.23636514]]\n"
     ]
    }
   ],
   "metadata": {}
  },
  {
   "cell_type": "code",
   "execution_count": null,
   "source": [],
   "outputs": [],
   "metadata": {}
  }
 ],
 "metadata": {
  "orig_nbformat": 4,
  "language_info": {
   "name": "python",
   "version": "3.8.5",
   "mimetype": "text/x-python",
   "codemirror_mode": {
    "name": "ipython",
    "version": 3
   },
   "pygments_lexer": "ipython3",
   "nbconvert_exporter": "python",
   "file_extension": ".py"
  },
  "kernelspec": {
   "name": "python3",
   "display_name": "Python 3.8.5 64-bit ('base': conda)"
  },
  "interpreter": {
   "hash": "4853882b697e6b0431e01bed671aeb3a0e9ddaa05d67de9c41ea02ac68e863a0"
  }
 },
 "nbformat": 4,
 "nbformat_minor": 2
}