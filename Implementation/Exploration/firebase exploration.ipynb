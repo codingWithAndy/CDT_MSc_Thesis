{
 "cells": [
  {
   "cell_type": "code",
   "execution_count": 1,
   "source": [
    "import pyrebase\n",
    "from firebase_details import link_to_firebase\n",
    "\n",
    "firebase_config = link_to_firebase()\n",
    "\n",
    "firebase = pyrebase.initialize_app(firebase_config)"
   ],
   "outputs": [],
   "metadata": {}
  },
  {
   "cell_type": "code",
   "execution_count": 4,
   "source": [
    "storage = firebase.storage()"
   ],
   "outputs": [],
   "metadata": {}
  },
  {
   "cell_type": "code",
   "execution_count": 2,
   "source": [
    "db = firebase.database()"
   ],
   "outputs": [],
   "metadata": {}
  },
  {
   "cell_type": "code",
   "execution_count": 3,
   "source": [
    "data = {\n",
    "    'win':0,\n",
    "    'lose':0,\n",
    "    'content': \"\"\"When I was a teenager my parents encouraged me to buy more books...\n",
    "\n",
    "            I preferred to splash out on magazines though!\"\"\"\n",
    "}"
   ],
   "outputs": [],
   "metadata": {}
  },
  {
   "cell_type": "code",
   "execution_count": 4,
   "source": [
    "data['content']"
   ],
   "outputs": [
    {
     "output_type": "execute_result",
     "data": {
      "text/plain": [
       "'When I was a teenager my parents encouraged me to buy more books...\\n\\n            I preferred to splash out on magazines though!'"
      ]
     },
     "metadata": {},
     "execution_count": 4
    }
   ],
   "metadata": {}
  },
  {
   "cell_type": "code",
   "execution_count": 7,
   "source": [
    "db.child(\"results\").child(\"2\").set(data)"
   ],
   "outputs": [
    {
     "output_type": "execute_result",
     "data": {
      "text/plain": [
       "{'content': 'When I was a teenager my parents encouraged me to buy more books...\\n\\n            I preferred to splash out on magazines though!',\n",
       " 'lose': 0,\n",
       " 'win': 0}"
      ]
     },
     "metadata": {},
     "execution_count": 7
    }
   ],
   "metadata": {}
  },
  {
   "cell_type": "code",
   "execution_count": null,
   "source": [
    "data2 = {\n",
    "    'win':0,\n",
    "    'lose':0,\n",
    "    'content': \"\"\"Boobs are like the sun!\n",
    "\n",
    "Taking a quick look is fine, but staring isn't...\n",
    "\n",
    "Then again, that's what sunglasses are for!\"\"\"\n",
    "}\n",
    "\n"
   ],
   "outputs": [],
   "metadata": {}
  },
  {
   "cell_type": "code",
   "execution_count": 9,
   "source": [
    "db.child(\"results\").child(1).set(data)"
   ],
   "outputs": [
    {
     "output_type": "execute_result",
     "data": {
      "text/plain": [
       "{'content': 'When I was a teenager my parents encouraged me to buy more books...\\n\\n            I preferred to splash out on magazines though!',\n",
       " 'lose': 0,\n",
       " 'win': 0}"
      ]
     },
     "metadata": {},
     "execution_count": 9
    }
   ],
   "metadata": {}
  },
  {
   "cell_type": "code",
   "execution_count": 7,
   "source": [
    "user_id = \"KlsVAnToZlg5qq9A2lu1LWxLWAg2\""
   ],
   "outputs": [],
   "metadata": {}
  },
  {
   "cell_type": "code",
   "execution_count": 23,
   "source": [
    "position = db.child(\"cj_position\").child(user_id).get()"
   ],
   "outputs": [],
   "metadata": {}
  },
  {
   "cell_type": "code",
   "execution_count": 29,
   "source": [
    "for cj_position in position.each():\n",
    "    current_num = cj_position.val()\n",
    "    print(cj_position.key())"
   ],
   "outputs": [
    {
     "output_type": "stream",
     "name": "stdout",
     "text": [
      "comparison_no\n"
     ]
    }
   ],
   "metadata": {}
  },
  {
   "cell_type": "code",
   "execution_count": 28,
   "source": [
    "print(position.val())"
   ],
   "outputs": [
    {
     "output_type": "stream",
     "name": "stdout",
     "text": [
      "OrderedDict([('comparison_no', 1)])\n"
     ]
    }
   ],
   "metadata": {}
  },
  {
   "cell_type": "code",
   "execution_count": 30,
   "source": [
    "# update\n",
    "db.child(\"cj_position\").child(user_id).update({'comparison_no': current_num + 1})"
   ],
   "outputs": [
    {
     "output_type": "execute_result",
     "data": {
      "text/plain": [
       "{'comparison_no': 2}"
      ]
     },
     "metadata": {},
     "execution_count": 30
    }
   ],
   "metadata": {}
  },
  {
   "cell_type": "code",
   "execution_count": 31,
   "source": [
    "tweets = db.child(\"results\").child(1).get()"
   ],
   "outputs": [],
   "metadata": {}
  },
  {
   "cell_type": "code",
   "execution_count": 33,
   "source": [
    "dict = {}\n",
    "for tweet in tweets.each():\n",
    "    dict[tweet.key()] = tweet.val()"
   ],
   "outputs": [],
   "metadata": {}
  },
  {
   "cell_type": "code",
   "execution_count": 35,
   "source": [
    "print(dict['content'])\n",
    "print(dict['lose'])\n",
    "print(dict['win'])"
   ],
   "outputs": [
    {
     "output_type": "stream",
     "name": "stdout",
     "text": [
      "When I was a teenager my parents encouraged me to buy more books...\n",
      "\n",
      "            I preferred to splash out on magazines though!\n",
      "0\n",
      "0\n"
     ]
    }
   ],
   "metadata": {}
  },
  {
   "cell_type": "code",
   "execution_count": 1,
   "source": [
    "def get_tweet_content(id):\n",
    "    # TODO: Add db init\n",
    "    tweets = db.child(\"results\").child(id).get()\n",
    "    dict = {}\n",
    "    for tweet in tweets.each():\n",
    "        dict[tweet.key()] = tweet.val()\n",
    "\n",
    "    return dict['content']"
   ],
   "outputs": [],
   "metadata": {}
  },
  {
   "cell_type": "code",
   "execution_count": 43,
   "source": [
    "tweet_1 = get_tweet_content(1)\n",
    "tweet_2 = get_tweet_content(2)\n",
    "\n",
    "print(tweet_1)\n",
    "print(tweet_2)"
   ],
   "outputs": [
    {
     "output_type": "stream",
     "name": "stdout",
     "text": [
      "Boobs are like the sun!  Taking a quick look is fine, but staring isn't...  Then again, that's what sunglasses are for!\n",
      "When I was a teenager my parents encouraged me to buy more books...\n",
      "\n",
      "            I preferred to splash out on magazines though!\n"
     ]
    }
   ],
   "metadata": {}
  },
  {
   "cell_type": "code",
   "execution_count": 2,
   "source": [
    "def get_combinations(round_number):\n",
    "    # TODO: Add db init\n",
    "    combination = db.child(\"combinations\").child(round_number).get()\n",
    "    combo_dict = {}\n",
    "    for combo in combination.each():\n",
    "        combo_dict[combo.key()] = combo.val()\n",
    "\n",
    "    return combo_dict"
   ],
   "outputs": [],
   "metadata": {}
  },
  {
   "cell_type": "code",
   "execution_count": 5,
   "source": [
    "tweet_ids = get_combinations(1)\n",
    "tweet1_content = get_tweet_content(tweet_ids['tweet_1'])\n",
    "tweet2_content = get_tweet_content(tweet_ids['tweet_2'])\n",
    "\n",
    "print(tweet1_content)\n",
    "print(tweet2_content)"
   ],
   "outputs": [
    {
     "output_type": "stream",
     "name": "stdout",
     "text": [
      "When I was a teenager my parents encouraged me to buy more books...\n",
      "\n",
      "            I preferred to splash out on magazines though!\n",
      "I was in the bar when I suddenly needed to pass wind. The music was really loud, so I timed my farts with the beat.  After a couple of songs I started to feel better. I finished my beer, but noticed everyone was looking at me‚Ä¶  Then I remembered I was listening to my iPod!\n"
     ]
    }
   ],
   "metadata": {}
  },
  {
   "cell_type": "code",
   "execution_count": 40,
   "source": [
    "combos = get_combinations(1)\n",
    "\n",
    "print(combos)"
   ],
   "outputs": [
    {
     "output_type": "stream",
     "name": "stdout",
     "text": [
      "{'combination_id': '17', 'tweet_1': '2', 'tweet_2': '6'}\n"
     ]
    }
   ],
   "metadata": {}
  },
  {
   "cell_type": "code",
   "execution_count": 35,
   "source": [
    "def update_result(round_number,winner_id):\n",
    "    # TODO: Add db init\n",
    "\n",
    "    combination = get_combinations(round_number)\n",
    "    print(combination)\n",
    "\n",
    "    if str(winner_id) == combination['tweet_1']:\n",
    "        loser_id = int(combination['tweet_2'])\n",
    "    else:\n",
    "        loser_id = int(combination['tweet_1'])\n",
    "\n",
    "    tweets = db.child(\"results\").child(winner_id).get()\n",
    "    tweet_dict = {}\n",
    "    for tweet in tweets.each():\n",
    "        tweet_dict[tweet.key()] = tweet.val()\n",
    "    tweet_dict['win'] += 1\n",
    "\n",
    "    other_tweet = db.child(\"results\").child(loser_id).get()\n",
    "    other_tweet_dict = {}\n",
    "    for tweet in other_tweet.each():\n",
    "        other_tweet_dict[tweet.key()] = tweet.val()\n",
    "    other_tweet_dict['lose'] += 1\n",
    "\n",
    "    db.child(\"results\").child(winner_id).update({\"win\": tweet_dict['win']})\n",
    "    db.child(\"results\").child(loser_id).update({\"lose\": other_tweet_dict['lose']})\n",
    "\n",
    "\n"
   ],
   "outputs": [],
   "metadata": {}
  },
  {
   "cell_type": "code",
   "execution_count": 77,
   "source": [
    "update_result(1,6)"
   ],
   "outputs": [
    {
     "output_type": "stream",
     "name": "stdout",
     "text": [
      "OrderedDict([('content', 'When I was a teenager my parents encouraged me to buy more books...\\n\\n            I preferred to splash out on magazines though!'), ('lose', 0), ('win', 2)])\n"
     ]
    }
   ],
   "metadata": {}
  },
  {
   "cell_type": "code",
   "execution_count": 15,
   "source": [
    "def record_justification(round_number,user_id,justification):\n",
    "    db.child(\"justification\").child(user_id).child(round_number).update({'justification': justification})"
   ],
   "outputs": [],
   "metadata": {}
  },
  {
   "cell_type": "code",
   "execution_count": 16,
   "source": [
    "record_justification(2,user_id,\"just because!\")"
   ],
   "outputs": [],
   "metadata": {}
  },
  {
   "cell_type": "code",
   "execution_count": 17,
   "source": [
    "def get_round_num(user_id):\n",
    "    # TODO: Add db init\n",
    "\n",
    "    round_info = db.child(\"cj_position\").child(user_id).get()\n",
    "    \n",
    "    for cj_position in round_info.each():\n",
    "        current_num = cj_position.val()\n",
    "    \n",
    "    \n",
    "    return current_num"
   ],
   "outputs": [],
   "metadata": {}
  },
  {
   "cell_type": "markdown",
   "source": [],
   "metadata": {}
  },
  {
   "cell_type": "code",
   "execution_count": 13,
   "source": [
    "def update_round_number(user_id):\n",
    "    current_round = get_round_num(user_id)\n",
    "\n",
    "    db.child(\"cj_position\").child(user_id).update({'comparison_no': current_round + 1})"
   ],
   "outputs": [],
   "metadata": {}
  },
  {
   "cell_type": "code",
   "execution_count": 30,
   "source": [
    "round_number = get_round_num(user_id)\n",
    "combo_id = get_combinations(round_number)\n",
    "tweet1_content = get_tweet_content(combo_id['tweet_1'])\n",
    "tweet2_content = get_tweet_content(combo_id['tweet_2'])\n",
    "\n",
    "print(tweet1_content)\n",
    "print(tweet2_content)\n"
   ],
   "outputs": [
    {
     "output_type": "stream",
     "name": "stdout",
     "text": [
      "My wife said she's leaving me because I can't do anything right when it comes to housework.  Selfish cow! Took me hours to mop that carpet!\n",
      "My boss yelled at me this morning, \"It's the fifth time you've been late to work this week! Do you know what that means?\"   I said, \"It's Friday!\"\n"
     ]
    }
   ],
   "metadata": {}
  },
  {
   "cell_type": "code",
   "execution_count": 46,
   "source": [
    "round_number = get_round_num(user_id)\n",
    "combo_id = get_combinations(round_number)\n",
    "winner = combo_id['tweet_1']\n",
    "justification = \"Testing, testing, 1...2....3......4\""
   ],
   "outputs": [],
   "metadata": {}
  },
  {
   "cell_type": "code",
   "execution_count": 47,
   "source": [
    "#get current round number and combo details\n",
    "round_number = get_round_num(user_id)\n",
    "#combo_id = get_combinations(round_number)\n",
    "#update results\n",
    "update_result(round_number,winner)\n",
    "#update justification\n",
    "record_justification(round_number,user_id,justification)\n",
    "\n",
    "#update cj position\n",
    "update_round_number(user_id)\n"
   ],
   "outputs": [
    {
     "output_type": "stream",
     "name": "stdout",
     "text": [
      "{'combination_id': '68', 'tweet_1': '7', 'tweet_2': '12'}\n"
     ]
    },
    {
     "output_type": "error",
     "ename": "TypeError",
     "evalue": "'NoneType' object is not iterable",
     "traceback": [
      "\u001b[0;31m---------------------------------------------------------------------------\u001b[0m",
      "\u001b[0;31mTypeError\u001b[0m                                 Traceback (most recent call last)",
      "\u001b[0;32m<ipython-input-47-69eb168c2ca5>\u001b[0m in \u001b[0;36m<module>\u001b[0;34m\u001b[0m\n\u001b[1;32m      3\u001b[0m \u001b[0;31m#combo_id = get_combinations(round_number)\u001b[0m\u001b[0;34m\u001b[0m\u001b[0;34m\u001b[0m\u001b[0;34m\u001b[0m\u001b[0m\n\u001b[1;32m      4\u001b[0m \u001b[0;31m#update results\u001b[0m\u001b[0;34m\u001b[0m\u001b[0;34m\u001b[0m\u001b[0;34m\u001b[0m\u001b[0m\n\u001b[0;32m----> 5\u001b[0;31m \u001b[0mupdate_result\u001b[0m\u001b[0;34m(\u001b[0m\u001b[0mround_number\u001b[0m\u001b[0;34m,\u001b[0m\u001b[0mwinner\u001b[0m\u001b[0;34m)\u001b[0m\u001b[0;34m\u001b[0m\u001b[0;34m\u001b[0m\u001b[0m\n\u001b[0m\u001b[1;32m      6\u001b[0m \u001b[0;31m#update justification\u001b[0m\u001b[0;34m\u001b[0m\u001b[0;34m\u001b[0m\u001b[0;34m\u001b[0m\u001b[0m\n\u001b[1;32m      7\u001b[0m \u001b[0mrecord_justification\u001b[0m\u001b[0;34m(\u001b[0m\u001b[0mround_number\u001b[0m\u001b[0;34m,\u001b[0m\u001b[0muser_id\u001b[0m\u001b[0;34m,\u001b[0m\u001b[0mjustification\u001b[0m\u001b[0;34m)\u001b[0m\u001b[0;34m\u001b[0m\u001b[0;34m\u001b[0m\u001b[0m\n",
      "\u001b[0;32m<ipython-input-35-9a4c7add9daa>\u001b[0m in \u001b[0;36mupdate_result\u001b[0;34m(round_number, winner_id)\u001b[0m\n\u001b[1;32m     12\u001b[0m     \u001b[0mtweets\u001b[0m \u001b[0;34m=\u001b[0m \u001b[0mdb\u001b[0m\u001b[0;34m.\u001b[0m\u001b[0mchild\u001b[0m\u001b[0;34m(\u001b[0m\u001b[0;34m\"results\"\u001b[0m\u001b[0;34m)\u001b[0m\u001b[0;34m.\u001b[0m\u001b[0mchild\u001b[0m\u001b[0;34m(\u001b[0m\u001b[0mwinner_id\u001b[0m\u001b[0;34m)\u001b[0m\u001b[0;34m.\u001b[0m\u001b[0mget\u001b[0m\u001b[0;34m(\u001b[0m\u001b[0;34m)\u001b[0m\u001b[0;34m\u001b[0m\u001b[0;34m\u001b[0m\u001b[0m\n\u001b[1;32m     13\u001b[0m     \u001b[0mtweet_dict\u001b[0m \u001b[0;34m=\u001b[0m \u001b[0;34m{\u001b[0m\u001b[0;34m}\u001b[0m\u001b[0;34m\u001b[0m\u001b[0;34m\u001b[0m\u001b[0m\n\u001b[0;32m---> 14\u001b[0;31m     \u001b[0;32mfor\u001b[0m \u001b[0mtweet\u001b[0m \u001b[0;32min\u001b[0m \u001b[0mtweets\u001b[0m\u001b[0;34m.\u001b[0m\u001b[0meach\u001b[0m\u001b[0;34m(\u001b[0m\u001b[0;34m)\u001b[0m\u001b[0;34m:\u001b[0m\u001b[0;34m\u001b[0m\u001b[0;34m\u001b[0m\u001b[0m\n\u001b[0m\u001b[1;32m     15\u001b[0m         \u001b[0mtweet_dict\u001b[0m\u001b[0;34m[\u001b[0m\u001b[0mtweet\u001b[0m\u001b[0;34m.\u001b[0m\u001b[0mkey\u001b[0m\u001b[0;34m(\u001b[0m\u001b[0;34m)\u001b[0m\u001b[0;34m]\u001b[0m \u001b[0;34m=\u001b[0m \u001b[0mtweet\u001b[0m\u001b[0;34m.\u001b[0m\u001b[0mval\u001b[0m\u001b[0;34m(\u001b[0m\u001b[0;34m)\u001b[0m\u001b[0;34m\u001b[0m\u001b[0;34m\u001b[0m\u001b[0m\n\u001b[1;32m     16\u001b[0m     \u001b[0mtweet_dict\u001b[0m\u001b[0;34m[\u001b[0m\u001b[0;34m'win'\u001b[0m\u001b[0;34m]\u001b[0m \u001b[0;34m+=\u001b[0m \u001b[0;36m1\u001b[0m\u001b[0;34m\u001b[0m\u001b[0;34m\u001b[0m\u001b[0m\n",
      "\u001b[0;31mTypeError\u001b[0m: 'NoneType' object is not iterable"
     ]
    }
   ],
   "metadata": {}
  },
  {
   "cell_type": "code",
   "execution_count": 4,
   "source": [
    "# Calculate CJ Score\n",
    "def update_cj_score():\n",
    "    for i in range(1,11):\n",
    "        score = calculate_score(i)\n",
    "        print(score)\n",
    "        db.child(\"results\").child(i).update({'score': score})\n"
   ],
   "outputs": [],
   "metadata": {}
  },
  {
   "cell_type": "code",
   "execution_count": 7,
   "source": [
    "def calculate_score(id):\n",
    "    tweets_scores = db.child(\"results\").child(id).get()\n",
    "    dict = {}\n",
    "    for tweet in tweets_scores.each():\n",
    "        dict[tweet.key()] = tweet.val()\n",
    "\n",
    "    result = dict['win'] - dict['lose']\n",
    "\n",
    "    return result"
   ],
   "outputs": [],
   "metadata": {}
  },
  {
   "cell_type": "code",
   "execution_count": 8,
   "source": [
    "update_cj_score()"
   ],
   "outputs": [
    {
     "output_type": "stream",
     "name": "stdout",
     "text": [
      "-2\n",
      "2\n",
      "0\n",
      "-2\n",
      "1\n",
      "1\n",
      "-1\n",
      "0\n",
      "1\n",
      "0\n"
     ]
    }
   ],
   "metadata": {}
  },
  {
   "cell_type": "code",
   "execution_count": 21,
   "source": [
    "def display_ranking():\n",
    "    order_dict = {}\n",
    "    for i in range(1,11):\n",
    "        tweet_details = db.child(\"results\").child(i).get()\n",
    "        dict = {}\n",
    "        for tweet in tweet_details.each():\n",
    "            dict[tweet.key()] = tweet.val()\n",
    "\n",
    "        order_dict[i] = dict\n",
    "        \n",
    "\n",
    "    #print(dict)\n",
    "    print(order_dict)\n",
    "\n",
    "    return order_dict\n"
   ],
   "outputs": [],
   "metadata": {}
  },
  {
   "cell_type": "code",
   "execution_count": 22,
   "source": [
    "rank_order = display_ranking()"
   ],
   "outputs": [
    {
     "output_type": "stream",
     "name": "stdout",
     "text": [
      "{1: {'content': 'An Englishman, a Scotsman and an Irishman walk into a bar. The Englishman wanted to go so they all had to leave. #Brexitjokes', 'lose': 3, 'score': -2, 'win': 1}, 2: {'content': 'Why do we need any colour passport? We should just be able to shout, “British! Less of your nonsense!” and stroll straight through.', 'lose': 0, 'score': 2, 'win': 2}, 3: {'content': 'Q: With Britain leaving the EU how much space was created?  A: Exactly 1GB', 'lose': 0, 'score': 0, 'win': 0}, 4: {'content': 'VOTERS: we want to give a boat a ridiculous name UK: no VOTERS: we want to break up the EU and trash the world economy UK: fine', 'lose': 2, 'score': -2, 'win': 0}, 5: {'content': '#BrexitJokes How did the Brexit chicken cross the road? \"I never said there was a road. Or a chicken\".', 'lose': 0, 'score': 1, 'win': 1}, 6: {'content': \"After #brexit, when rapper 50 cent performs in GBR he'll appear as 10.000 pounds. #brexitjokes\", 'lose': 0, 'score': 1, 'win': 1}, 7: {'content': 'I long for the simpler days when #Brexit was just a term for leaving brunch early.', 'lose': 2, 'score': -1, 'win': 1}, 8: {'content': \"Say goodbye to croissants, people. Delicious croissants. We're stuck with crumpets FOREVER.\", 'lose': 0, 'score': 0, 'win': 0}, 9: {'content': 'Hello, I am from Britain, you know, the one that got tricked by a bus', 'lose': 1, 'score': 1, 'win': 2}, 10: {'content': 'How many Brexiteers does it take to change a light bulb? None, they are all walked out because they didn’t like the way the electrician did it.', 'lose': 0, 'score': 0, 'win': 0}}\n"
     ]
    }
   ],
   "metadata": {}
  },
  {
   "cell_type": "code",
   "execution_count": 23,
   "source": [
    "type(rank_order)"
   ],
   "outputs": [
    {
     "output_type": "execute_result",
     "data": {
      "text/plain": [
       "dict"
      ]
     },
     "metadata": {},
     "execution_count": 23
    }
   ],
   "metadata": {}
  },
  {
   "cell_type": "code",
   "execution_count": 41,
   "source": [
    "new_order = {}\n",
    "for i in range(1,11):\n",
    "    new_order[i] = rank_order[i]['score']"
   ],
   "outputs": [],
   "metadata": {}
  },
  {
   "cell_type": "code",
   "execution_count": 42,
   "source": [
    "print(new_order)"
   ],
   "outputs": [
    {
     "output_type": "stream",
     "name": "stdout",
     "text": [
      "{1: -2, 2: 2, 3: 0, 4: -2, 5: 1, 6: 1, 7: -1, 8: 0, 9: 1, 10: 0}\n"
     ]
    }
   ],
   "metadata": {}
  },
  {
   "cell_type": "code",
   "execution_count": 43,
   "source": [
    "import operator\n",
    "new_order = sorted(new_order.items(), key=lambda kv: kv[1], reverse=True)"
   ],
   "outputs": [],
   "metadata": {}
  },
  {
   "cell_type": "code",
   "execution_count": 44,
   "source": [
    "new_order"
   ],
   "outputs": [
    {
     "output_type": "execute_result",
     "data": {
      "text/plain": [
       "[(2, 2),\n",
       " (5, 1),\n",
       " (6, 1),\n",
       " (9, 1),\n",
       " (3, 0),\n",
       " (8, 0),\n",
       " (10, 0),\n",
       " (7, -1),\n",
       " (1, -2),\n",
       " (4, -2)]"
      ]
     },
     "metadata": {},
     "execution_count": 44
    }
   ],
   "metadata": {}
  },
  {
   "cell_type": "code",
   "execution_count": 45,
   "source": [
    "final_order = {}\n",
    "\n",
    "for i in range(len(new_order)):\n",
    "    final_order[new_order[i][0]] = new_order[i][1]"
   ],
   "outputs": [],
   "metadata": {}
  },
  {
   "cell_type": "code",
   "execution_count": 46,
   "source": [
    "print(final_order)"
   ],
   "outputs": [
    {
     "output_type": "stream",
     "name": "stdout",
     "text": [
      "{2: 2, 5: 1, 6: 1, 9: 1, 3: 0, 8: 0, 10: 0, 7: -1, 1: -2, 4: -2}\n"
     ]
    }
   ],
   "metadata": {}
  },
  {
   "cell_type": "code",
   "execution_count": 47,
   "source": [
    "# display rank with tweet content\n",
    "final_order[1]"
   ],
   "outputs": [
    {
     "output_type": "execute_result",
     "data": {
      "text/plain": [
       "-2"
      ]
     },
     "metadata": {},
     "execution_count": 47
    }
   ],
   "metadata": {}
  },
  {
   "cell_type": "code",
   "execution_count": 51,
   "source": [
    "def get_tweet_content(id):\n",
    "    #db = #init_db()\n",
    "    tweets = db.child(\"results\").child(id).get()\n",
    "    dict = {}\n",
    "    for tweet in tweets.each():\n",
    "        dict[tweet.key()] = tweet.val()\n",
    "\n",
    "    return dict['content']"
   ],
   "outputs": [],
   "metadata": {}
  },
  {
   "cell_type": "code",
   "execution_count": 52,
   "source": [
    "final_order_content = {}\n",
    "for key in final_order:\n",
    "    print(key)\n",
    "    final_order_content[key] = get_tweet_content(key)\n",
    "    \n"
   ],
   "outputs": [
    {
     "output_type": "stream",
     "name": "stdout",
     "text": [
      "2\n",
      "5\n",
      "6\n",
      "9\n",
      "3\n",
      "8\n",
      "10\n",
      "7\n",
      "1\n",
      "4\n"
     ]
    }
   ],
   "metadata": {}
  },
  {
   "cell_type": "code",
   "execution_count": 53,
   "source": [
    "print(final_order_content)"
   ],
   "outputs": [
    {
     "output_type": "stream",
     "name": "stdout",
     "text": [
      "{2: 'Why do we need any colour passport? We should just be able to shout, “British! Less of your nonsense!” and stroll straight through.', 5: '#BrexitJokes How did the Brexit chicken cross the road? \"I never said there was a road. Or a chicken\".', 6: \"After #brexit, when rapper 50 cent performs in GBR he'll appear as 10.000 pounds. #brexitjokes\", 9: 'Hello, I am from Britain, you know, the one that got tricked by a bus', 3: 'Q: With Britain leaving the EU how much space was created?  A: Exactly 1GB', 8: \"Say goodbye to croissants, people. Delicious croissants. We're stuck with crumpets FOREVER.\", 10: 'How many Brexiteers does it take to change a light bulb? None, they are all walked out because they didn’t like the way the electrician did it.', 7: 'I long for the simpler days when #Brexit was just a term for leaving brunch early.', 1: 'An Englishman, a Scotsman and an Irishman walk into a bar. The Englishman wanted to go so they all had to leave. #Brexitjokes', 4: 'VOTERS: we want to give a boat a ridiculous name UK: no VOTERS: we want to break up the EU and trash the world economy UK: fine'}\n"
     ]
    }
   ],
   "metadata": {}
  },
  {
   "cell_type": "code",
   "execution_count": 54,
   "source": [
    "for key in final_order_content:\n",
    "    print(final_order_content[key])"
   ],
   "outputs": [
    {
     "output_type": "stream",
     "name": "stdout",
     "text": [
      "Why do we need any colour passport? We should just be able to shout, “British! Less of your nonsense!” and stroll straight through.\n",
      "#BrexitJokes How did the Brexit chicken cross the road? \"I never said there was a road. Or a chicken\".\n",
      "After #brexit, when rapper 50 cent performs in GBR he'll appear as 10.000 pounds. #brexitjokes\n",
      "Hello, I am from Britain, you know, the one that got tricked by a bus\n",
      "Q: With Britain leaving the EU how much space was created?  A: Exactly 1GB\n",
      "Say goodbye to croissants, people. Delicious croissants. We're stuck with crumpets FOREVER.\n",
      "How many Brexiteers does it take to change a light bulb? None, they are all walked out because they didn’t like the way the electrician did it.\n",
      "I long for the simpler days when #Brexit was just a term for leaving brunch early.\n",
      "An Englishman, a Scotsman and an Irishman walk into a bar. The Englishman wanted to go so they all had to leave. #Brexitjokes\n",
      "VOTERS: we want to give a boat a ridiculous name UK: no VOTERS: we want to break up the EU and trash the world economy UK: fine\n"
     ]
    }
   ],
   "metadata": {}
  },
  {
   "cell_type": "code",
   "execution_count": null,
   "source": [],
   "outputs": [],
   "metadata": {}
  }
 ],
 "metadata": {
  "orig_nbformat": 4,
  "language_info": {
   "name": "python",
   "version": "3.8.5",
   "mimetype": "text/x-python",
   "codemirror_mode": {
    "name": "ipython",
    "version": 3
   },
   "pygments_lexer": "ipython3",
   "nbconvert_exporter": "python",
   "file_extension": ".py"
  },
  "kernelspec": {
   "name": "python3",
   "display_name": "Python 3.8.5 64-bit ('base': conda)"
  },
  "interpreter": {
   "hash": "4853882b697e6b0431e01bed671aeb3a0e9ddaa05d67de9c41ea02ac68e863a0"
  }
 },
 "nbformat": 4,
 "nbformat_minor": 2
}